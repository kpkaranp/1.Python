{
 "cells": [
  {
   "cell_type": "code",
   "execution_count": 5,
   "metadata": {},
   "outputs": [
    {
     "name": "stdout",
     "output_type": "stream",
     "text": [
      "Enter the value of I:10\n",
      "The I value is 10\n",
      "CORRECT : \n"
     ]
    }
   ],
   "source": [
    "#print \"correct\" if i==10\n",
    "\n",
    "i=int(input(\"Enter the value of I:\"))\n",
    "\n",
    "if(i==10):\n",
    "    print(\"The I value is 10\")\n",
    "    print(\"CORRECT : \")\n",
    "else:\n",
    "    print(\"The I value is not valid\")"
   ]
  },
  {
   "cell_type": "code",
   "execution_count": 12,
   "metadata": {},
   "outputs": [
    {
     "name": "stdout",
     "output_type": "stream",
     "text": [
      "Enter your password: HOPE@123\n",
      "Your password is corrct.\n"
     ]
    }
   ],
   "source": [
    "password = \"HOPE@123\"\n",
    "value = input('Enter your password: ')\n",
    "\n",
    "if(password == value):\n",
    "    print(\"Your password is corrct.\")\n",
    "else:\n",
    "    print(\"invalid password\")\n"
   ]
  },
  {
   "cell_type": "code",
   "execution_count": 13,
   "metadata": {},
   "outputs": [
    {
     "name": "stdout",
     "output_type": "stream",
     "text": [
      "your password is correct\n"
     ]
    }
   ],
   "source": [
    "if(\"your password = HOPE@123\"):\n",
    "    print(\"your password is correct\")\n",
    "else:\n",
    "    print(\"your password is invalid\")\n"
   ]
  },
  {
   "cell_type": "code",
   "execution_count": 30,
   "metadata": {},
   "outputs": [],
   "source": [
    "# Main method\n",
    "def main():\n",
    "    passwd = 'HOPe@123'\n",
    "     \n",
    "    if (password_check(passwd)):\n",
    "        print(\"Password is correct\")\n",
    "    else:\n",
    "        print(\"Invalid Password !!\")"
   ]
  },
  {
   "cell_type": "code",
   "execution_count": 31,
   "metadata": {},
   "outputs": [
    {
     "name": "stdout",
     "output_type": "stream",
     "text": [
      "Password is correct\n"
     ]
    }
   ],
   "source": [
    "main()"
   ]
  },
  {
   "cell_type": "code",
   "execution_count": 26,
   "metadata": {},
   "outputs": [
    {
     "name": "stdout",
     "output_type": "stream",
     "text": [
      "Enter the age: 34\n",
      "Adult\n"
     ]
    }
   ],
   "source": [
    "age=int(input(\"Enter the age: \"))\n",
    "if(age<18):\n",
    "    print(\"children\")\n",
    "elif(age<35):\n",
    "    print(\"Adult\")\n",
    "elif(age<59):\n",
    "    print(\"citizen\")\n",
    "else:\n",
    "    print(\"Senior citizen\")\n"
   ]
  },
  {
   "cell_type": "code",
   "execution_count": 38,
   "metadata": {},
   "outputs": [
    {
     "name": "stdout",
     "output_type": "stream",
     "text": [
      "Enter the number: 1\n",
      "the number is passitive\n"
     ]
    }
   ],
   "source": [
    "#Find whether the number is possitive or negative\n",
    "\n",
    "num1=int(input(\"Enter the number: \"))\n",
    "if (num1<0):\n",
    "    print(\"The number is Negative\")\n",
    "else:\n",
    "    print(\"the number is passitive\")\n"
   ]
  },
  {
   "cell_type": "code",
   "execution_count": 46,
   "metadata": {},
   "outputs": [
    {
     "name": "stdout",
     "output_type": "stream",
     "text": [
      "Enter the numbber: 25\n",
      "The number is divisible by 5\n"
     ]
    }
   ],
   "source": [
    "#FInd the whether the number is divisible by 5\n",
    "n=int(input(\"Enter the numbber: \"))\n",
    "if(n%5==0):\n",
    "    print(\"The number is divisible by 5\")\n",
    "else:\n",
    "    print(\"The number is not divisiable by 5\")\n"
   ]
  },
  {
   "cell_type": "code",
   "execution_count": null,
   "metadata": {},
   "outputs": [],
   "source": []
  }
 ],
 "metadata": {
  "kernelspec": {
   "display_name": "Python 3",
   "language": "python",
   "name": "python3"
  },
  "language_info": {
   "codemirror_mode": {
    "name": "ipython",
    "version": 3
   },
   "file_extension": ".py",
   "mimetype": "text/x-python",
   "name": "python",
   "nbconvert_exporter": "python",
   "pygments_lexer": "ipython3",
   "version": "3.7.4"
  }
 },
 "nbformat": 4,
 "nbformat_minor": 2
}
