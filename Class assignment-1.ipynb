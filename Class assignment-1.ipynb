{
 "cells": [
  {
   "cell_type": "code",
   "execution_count": null,
   "metadata": {},
   "outputs": [],
   "source": [
    "#Create class and function and list out items in the list"
   ]
  },
  {
   "cell_type": "code",
   "execution_count": 1,
   "metadata": {},
   "outputs": [],
   "source": [
    "class SubfieldsInAI():\n",
    "    def Subfeilds():\n",
    "        list=[\"Machinelearning\",\"Neural networks\",\"Vision\",\"Robotics\",\"Speech processing\",\"Natural language processing\"]\n",
    "        input=(\"Sub-fields in AI are:\")\n",
    "        print(input)\n",
    "        for item in list:\n",
    "            print(item)"
   ]
  },
  {
   "cell_type": "code",
   "execution_count": 2,
   "metadata": {},
   "outputs": [
    {
     "name": "stdout",
     "output_type": "stream",
     "text": [
      "Sub-fields in AI are:\n",
      "Machinelearning\n",
      "Neural networks\n",
      "Vision\n",
      "Robotics\n",
      "Speech processing\n",
      "Natural language processing\n"
     ]
    }
   ],
   "source": [
    "SubfieldsInAI.Subfeilds()"
   ]
  },
  {
   "cell_type": "code",
   "execution_count": null,
   "metadata": {},
   "outputs": [],
   "source": [
    "#Create a function that will check whether its od number or evne number"
   ]
  },
  {
   "cell_type": "code",
   "execution_count": 3,
   "metadata": {},
   "outputs": [],
   "source": [
    "class oddEven():\n",
    "    def oddEven():\n",
    "        num=int(input(\"Enter the number:\"))\n",
    "        if((num%2)==1):\n",
    "            print(\"Odd Number\")\n",
    "            message=\"Odd Number\"\n",
    "        else:\n",
    "            print(\"Even Number\")\n",
    "            message=\"Even Number\"\n",
    "        return message"
   ]
  },
  {
   "cell_type": "code",
   "execution_count": 4,
   "metadata": {},
   "outputs": [
    {
     "name": "stdout",
     "output_type": "stream",
     "text": [
      "Enter the number:345\n",
      "Odd Number\n"
     ]
    },
    {
     "data": {
      "text/plain": [
       "'Odd Number'"
      ]
     },
     "execution_count": 4,
     "metadata": {},
     "output_type": "execute_result"
    }
   ],
   "source": [
    "oddEven.oddEven()"
   ]
  },
  {
   "cell_type": "code",
   "execution_count": 7,
   "metadata": {},
   "outputs": [],
   "source": [
    "class EligibilityForMarriage():\n",
    "    def Eligible():\n",
    "        gender=input(\"Enter your Gender:\")\n",
    "        age=int(input(\"Enter your Age:\"))\n",
    "        if(gender==\"Male\"):\n",
    "            if(age<21):\n",
    "                print(\"Not Eligible for the marriage\")\n",
    "            else:\n",
    "                print(\"Eligible for the marriage\")\n",
    "        else:\n",
    "            if(age<18):\n",
    "                print(\"Not Eligible for the marriag\")\n",
    "            else:      \n",
    "                print(\"Eligible for the marriage\")\n",
    "              "
   ]
  },
  {
   "cell_type": "code",
   "execution_count": 12,
   "metadata": {},
   "outputs": [
    {
     "name": "stdout",
     "output_type": "stream",
     "text": [
      "Enter your Gender:male\n",
      "Enter your Age:25\n",
      "Eligible for the marriage\n"
     ]
    }
   ],
   "source": [
    "EligibilityForMarriage.Eligible()"
   ]
  },
  {
   "cell_type": "code",
   "execution_count": 9,
   "metadata": {},
   "outputs": [],
   "source": [
    "class triangle():\n",
    "    def areaoftriangle1():\n",
    "        height = int(input())\n",
    "        breadth = int(input())\n",
    "        areaOftriangle = height * breadth/2\n",
    "        print(\"Area Of Triangle :\",areaOftriangle)\n",
    "\n",
    "    def perimeter():\n",
    "        Height1 = int(input())\n",
    "        Height2 = int(input())\n",
    "        Breadth = int(input())\n",
    "        perimeterOftriangle = Height1 + Height2 + Breadth\n",
    "        print(\"Perimeter Of Triangle :\",perimeterOftriangle)\n",
    "    "
   ]
  },
  {
   "cell_type": "code",
   "execution_count": 10,
   "metadata": {},
   "outputs": [
    {
     "name": "stdout",
     "output_type": "stream",
     "text": [
      "32\n",
      "34\n",
      "Area Of Triangle : 544.0\n"
     ]
    }
   ],
   "source": [
    "triangle.areaoftriangle1()"
   ]
  },
  {
   "cell_type": "code",
   "execution_count": 13,
   "metadata": {},
   "outputs": [],
   "source": [
    "class findpercent():\n",
    "    def percentage():\n",
    "        Tamil=int(input(\"Enter the tamil mark:\"))\n",
    "        English=int(input(\"Enter the English mark\"))\n",
    "        math=int(input(\"Enter the math mark\"))\n",
    "        sicence=int(input(\"Enter the sicence mark\"))\n",
    "        socialsicence=int(input(\"Enter the socialsicence mark\"))\n",
    "        Total=Tamil+English+math+sicence+socialsicence\n",
    "        print(\"Total=\",Total)\n",
    "        message=\"Total=\",Total\n",
    "        print(\"Percentage=\", Total/5)\n",
    "        message=\"Percentage=\", Total/5\n",
    "        return message"
   ]
  },
  {
   "cell_type": "code",
   "execution_count": 14,
   "metadata": {},
   "outputs": [
    {
     "name": "stdout",
     "output_type": "stream",
     "text": [
      "Enter the tamil mark:50\n",
      "Enter the English mark50\n",
      "Enter the math mark50\n",
      "Enter the sicence mark50\n",
      "Enter the socialsicence mark50\n",
      "Total= 250\n",
      "Percentage= 50.0\n"
     ]
    },
    {
     "data": {
      "text/plain": [
       "('Percentage=', 50.0)"
      ]
     },
     "execution_count": 14,
     "metadata": {},
     "output_type": "execute_result"
    }
   ],
   "source": [
    "findpercent.percentage()"
   ]
  },
  {
   "cell_type": "code",
   "execution_count": null,
   "metadata": {},
   "outputs": [],
   "source": []
  }
 ],
 "metadata": {
  "kernelspec": {
   "display_name": "Python 3",
   "language": "python",
   "name": "python3"
  },
  "language_info": {
   "codemirror_mode": {
    "name": "ipython",
    "version": 3
   },
   "file_extension": ".py",
   "mimetype": "text/x-python",
   "name": "python",
   "nbconvert_exporter": "python",
   "pygments_lexer": "ipython3",
   "version": "3.7.4"
  }
 },
 "nbformat": 4,
 "nbformat_minor": 2
}
