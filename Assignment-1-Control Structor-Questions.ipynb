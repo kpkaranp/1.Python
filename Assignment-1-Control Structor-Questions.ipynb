{
 "cells": [
  {
   "cell_type": "code",
   "execution_count": 1,
   "metadata": {},
   "outputs": [
    {
     "name": "stdout",
     "output_type": "stream",
     "text": [
      "Welcome to Assignment_1\n"
     ]
    }
   ],
   "source": [
    "print(\"Welcome to Assignment_1\")"
   ]
  },
  {
   "cell_type": "code",
   "execution_count": 2,
   "metadata": {},
   "outputs": [
    {
     "name": "stdout",
     "output_type": "stream",
     "text": [
      "Num1= 10\n",
      "Num2= 30\n",
      "Add= 40\n"
     ]
    }
   ],
   "source": [
    "Num1=10\n",
    "print(\"Num1=\",Num1)\n",
    "Num2=30\n",
    "print(\"Num2=\",Num2)\n",
    "Add=Num1+Num2\n",
    "print(\"Add=\",Add)"
   ]
  },
  {
   "cell_type": "code",
   "execution_count": null,
   "metadata": {},
   "outputs": [],
   "source": []
  },
  {
   "cell_type": "code",
   "execution_count": 3,
   "metadata": {},
   "outputs": [
    {
     "name": "stdout",
     "output_type": "stream",
     "text": [
      "Enter the Num1:10\n",
      "Enter the Num2:30\n",
      "Add= 40\n"
     ]
    }
   ],
   "source": [
    "Num1=int(input(\"Enter the Num1:\"))\n",
    "Num2=int(input(\"Enter the Num2:\"))\n",
    "add=Num1+Num2\n",
    "print(\"Add=\",add)"
   ]
  },
  {
   "cell_type": "code",
   "execution_count": 4,
   "metadata": {},
   "outputs": [
    {
     "name": "stdout",
     "output_type": "stream",
     "text": [
      "Enter the BMI Index:34\n",
      "Overweight\n"
     ]
    }
   ],
   "source": [
    "BMI=int(input(\"Enter the BMI Index:\"))\n",
    "if(BMI<25):\n",
    "    print(\"Normal\")\n",
    "elif(BMI<35):\n",
    "    print(\"Overweight\")\n",
    "else:\n",
    "    print(\"Obesity\")    \n",
    "    "
   ]
  },
  {
   "cell_type": "code",
   "execution_count": null,
   "metadata": {},
   "outputs": [],
   "source": [
    "#BMI index\n",
    "weight=float(input(\"Enter the Weight:\"))\n",
    "height=float(input(\"Enter the hight:\"))\n",
    "\n",
    "bmi= weight/(height)**2\n",
    "\n",
    "if bmi<18.5:\n",
    "    print(\"Underweight\")\n",
    "elif bmi>=18.5 and bmi<25:\n",
    "    print(\"Normal\")\n",
    "elif bmi>=25 and bmi<30:\n",
    "    print(\"Overweight\")\n",
    "else:\n",
    "    print(\"Obesity\")\n"
   ]
  },
  {
   "cell_type": "code",
   "execution_count": null,
   "metadata": {},
   "outputs": [],
   "source": []
  }
 ],
 "metadata": {
  "kernelspec": {
   "display_name": "Python 3",
   "language": "python",
   "name": "python3"
  },
  "language_info": {
   "codemirror_mode": {
    "name": "ipython",
    "version": 3
   },
   "file_extension": ".py",
   "mimetype": "text/x-python",
   "name": "python",
   "nbconvert_exporter": "python",
   "pygments_lexer": "ipython3",
   "version": "3.7.4"
  }
 },
 "nbformat": 4,
 "nbformat_minor": 2
}
