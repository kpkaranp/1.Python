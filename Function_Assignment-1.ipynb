{
 "cells": [
  {
   "cell_type": "code",
   "execution_count": 1,
   "metadata": {},
   "outputs": [],
   "source": [
    "def oddEven():\n",
    "    num=int(input(\"Enter the number:\"))\n",
    "    if((num%2)==1):\n",
    "        print(\"Odd Number\")\n",
    "        message=\"Odd Number\"\n",
    "    else:\n",
    "        print(\"Even Number\")\n",
    "        message=\"Even Number\"\n",
    "    return message"
   ]
  },
  {
   "cell_type": "code",
   "execution_count": 2,
   "metadata": {},
   "outputs": [
    {
     "name": "stdout",
     "output_type": "stream",
     "text": [
      "Enter the number:4\n",
      "Even Number\n"
     ]
    },
    {
     "data": {
      "text/plain": [
       "'Even Number'"
      ]
     },
     "execution_count": 2,
     "metadata": {},
     "output_type": "execute_result"
    }
   ],
   "source": [
    "oddEven()"
   ]
  },
  {
   "cell_type": "code",
   "execution_count": 5,
   "metadata": {},
   "outputs": [
    {
     "name": "stdout",
     "output_type": "stream",
     "text": [
      "Sub-fields in AI are:\n",
      "Machinelearning\n",
      "Neural networks\n",
      "Vision\n",
      "Robotics\n",
      "Speech processing\n",
      "Natural language processing\n"
     ]
    }
   ],
   "source": [
    "list=[\"Machinelearning\",\"Neural networks\",\"Vision\",\"Robotics\",\"Speech processing\",\"Natural language processing\"]\n",
    "input=(\"Sub-fields in AI are:\")\n",
    "print(input)\n",
    "for item in list:\n",
    "    print(item)\n"
   ]
  },
  {
   "cell_type": "code",
   "execution_count": 17,
   "metadata": {},
   "outputs": [
    {
     "name": "stdout",
     "output_type": "stream",
     "text": [
      "Enter your Genter:male\n",
      "Enter your age:21\n",
      "your Elegible for marriage\n"
     ]
    }
   ],
   "source": [
    "Gender=input(\"Enter your Genter:\")\n",
    "age=int(input(\"Enter your age:\"))\n",
    "if(age>=21):\n",
    "    print(\"your Elegible for marriage\")\n",
    "else:\n",
    "    print(\"Your not Elegible for marriage\")"
   ]
  },
  {
   "cell_type": "code",
   "execution_count": 3,
   "metadata": {},
   "outputs": [],
   "source": [
    "def Elegible():\n",
    "    Gender=input(\"Enter your Genter:\")\n",
    "    age=int(input(\"Enter your age:\"))\n",
    "    if(age>=21):\n",
    "        print(\"your are Elegible for marriage\")\n",
    "        message=\"You are Elegible for marriage\"\n",
    "    else:\n",
    "        print(\"Your are not Elegible for marriage\")\n",
    "        message=\"You are not Elegible for marrage\"\n",
    "    return message"
   ]
  },
  {
   "cell_type": "code",
   "execution_count": 6,
   "metadata": {},
   "outputs": [
    {
     "name": "stdout",
     "output_type": "stream",
     "text": [
      "Enter your Genter:male\n",
      "Enter your age:25\n",
      "your are Elegible for marriage\n"
     ]
    },
    {
     "data": {
      "text/plain": [
       "'you are Elegible for marriage'"
      ]
     },
     "execution_count": 6,
     "metadata": {},
     "output_type": "execute_result"
    }
   ],
   "source": [
    "Elegible()"
   ]
  },
  {
   "cell_type": "code",
   "execution_count": 12,
   "metadata": {},
   "outputs": [],
   "source": [
    "class Elegiblityformarrige():\n",
    "    def Elegible():\n",
    "        Gender=input(\"Enter your Genter:\")\n",
    "        age=int(input(\"Enter your age:\"))\n",
    "        if(age>=21):\n",
    "            print(\"your are Elegible for marriage\")\n",
    "            message=\"You are Elegible for marriage\"\n",
    "        else:\n",
    "            print(\"Your are not Elegible for marriage\")\n",
    "            message=\"You are not Elegible for marrage\"\n",
    "        return message\n",
    "    \n",
    "    def Elegiblefemale():\n",
    "        Gender=input(\"Enter your Genter:\")\n",
    "        age=int(input(\"Enter your age:\"))\n",
    "        if(age>=18):\n",
    "            print(\"your are Elegible for marriage\")\n",
    "            message=\"You are Elegible for marriage\"\n",
    "        else:\n",
    "            print(\"Your are not Elegible for marriage\")\n",
    "            message=\"You are not Elegible for marrage\"\n",
    "        return message"
   ]
  },
  {
   "cell_type": "code",
   "execution_count": 11,
   "metadata": {},
   "outputs": [
    {
     "name": "stdout",
     "output_type": "stream",
     "text": [
      "Enter your Genter:male\n",
      "Enter your age:18\n",
      "Your are not Elegible for marriage\n"
     ]
    },
    {
     "data": {
      "text/plain": [
       "'You are not Elegible for marrage'"
      ]
     },
     "execution_count": 11,
     "metadata": {},
     "output_type": "execute_result"
    }
   ],
   "source": [
    "Elegiblityformarrige.Elegible()"
   ]
  },
  {
   "cell_type": "code",
   "execution_count": 13,
   "metadata": {},
   "outputs": [
    {
     "name": "stdout",
     "output_type": "stream",
     "text": [
      "Enter your Genter:Female\n",
      "Enter your age:18\n",
      "your are Elegible for marriage\n"
     ]
    },
    {
     "data": {
      "text/plain": [
       "'You are Elegible for marriage'"
      ]
     },
     "execution_count": 13,
     "metadata": {},
     "output_type": "execute_result"
    }
   ],
   "source": [
    "Elegiblityformarrige.Elegiblefemale()"
   ]
  },
  {
   "cell_type": "code",
   "execution_count": 17,
   "metadata": {},
   "outputs": [
    {
     "name": "stdout",
     "output_type": "stream",
     "text": [
      "Enter the tamil mark:50\n",
      "Enter the English mark50\n",
      "Enter the math mark50\n",
      "Enter the sicence mark50\n",
      "Enter the socialsicence mark50\n",
      "Total= 250\n",
      "Percentage= 50.0\n"
     ]
    }
   ],
   "source": [
    "#percentage\n",
    "\n",
    "Tamil=int(input(\"Enter the tamil mark:\"))\n",
    "English=int(input(\"Enter the English mark\"))\n",
    "math=int(input(\"Enter the math mark\"))\n",
    "sicence=int(input(\"Enter the sicence mark\"))\n",
    "socialsicence=int(input(\"Enter the socialsicence mark\"))\n",
    "Total=Tamil+English+math+sicence+socialsicence\n",
    "print(\"Total=\",Total)\n",
    "print(\"Percentage=\", Total/5)"
   ]
  },
  {
   "cell_type": "code",
   "execution_count": 18,
   "metadata": {},
   "outputs": [],
   "source": [
    "def percentage():\n",
    "    Tamil=int(input(\"Enter the tamil mark:\"))\n",
    "    English=int(input(\"Enter the English mark\"))\n",
    "    math=int(input(\"Enter the math mark\"))\n",
    "    sicence=int(input(\"Enter the sicence mark\"))\n",
    "    socialsicence=int(input(\"Enter the socialsicence mark\"))\n",
    "    Total=Tamil+English+math+sicence+socialsicence\n",
    "    print(\"Total=\",Total)\n",
    "    message=\"Total=\",Total\n",
    "    print(\"Percentage=\", Total/5)\n",
    "    message=\"Percentage=\", Total/5\n",
    "    return message\n",
    "    "
   ]
  },
  {
   "cell_type": "code",
   "execution_count": 19,
   "metadata": {},
   "outputs": [
    {
     "name": "stdout",
     "output_type": "stream",
     "text": [
      "Enter the tamil mark:50\n",
      "Enter the English mark50\n",
      "Enter the math mark50\n",
      "Enter the sicence mark50\n",
      "Enter the socialsicence mark50\n",
      "Total= 250\n",
      "Percentage= 50.0\n"
     ]
    },
    {
     "data": {
      "text/plain": [
       "('Percentage=', 50.0)"
      ]
     },
     "execution_count": 19,
     "metadata": {},
     "output_type": "execute_result"
    }
   ],
   "source": [
    "percentage()"
   ]
  },
  {
   "cell_type": "code",
   "execution_count": 20,
   "metadata": {},
   "outputs": [],
   "source": [
    "def triangle():\n",
    "    Height=int(input(\"Height :\"))\n",
    "    Breadth=int(input(\"Breadth :\"))\n",
    "    print(\"Area of Triangle :\",(Height*Breadth)/2)\n",
    "    message=\"Area of Triangle\"\n",
    "    height1=int(input(\"Height1 :\"))\n",
    "    height2=int(input(\"Height2 :\"))\n",
    "    breadth=int(input(\"Breadth :\"))\n",
    "    print(\"Perimeter of Triangle :\",height1+height2+breadth)\n",
    "    message=\"Perimeter of Triangle :\",height1+height2+breadth\n",
    "    return message"
   ]
  },
  {
   "cell_type": "code",
   "execution_count": 21,
   "metadata": {},
   "outputs": [
    {
     "name": "stdout",
     "output_type": "stream",
     "text": [
      "Height :32\n",
      "Breadth :34\n",
      "Area of Triangle : 544.0\n",
      "Height1 :2\n",
      "Height2 :2\n",
      "Breadth :4\n",
      "Perimeter of Triangle : 8\n"
     ]
    },
    {
     "data": {
      "text/plain": [
       "('Perimeter of Triangle :', 8)"
      ]
     },
     "execution_count": 21,
     "metadata": {},
     "output_type": "execute_result"
    }
   ],
   "source": [
    "triangle()"
   ]
  },
  {
   "cell_type": "code",
   "execution_count": null,
   "metadata": {},
   "outputs": [],
   "source": []
  }
 ],
 "metadata": {
  "kernelspec": {
   "display_name": "Python 3",
   "language": "python",
   "name": "python3"
  },
  "language_info": {
   "codemirror_mode": {
    "name": "ipython",
    "version": 3
   },
   "file_extension": ".py",
   "mimetype": "text/x-python",
   "name": "python",
   "nbconvert_exporter": "python",
   "pygments_lexer": "ipython3",
   "version": "3.7.4"
  }
 },
 "nbformat": 4,
 "nbformat_minor": 2
}
